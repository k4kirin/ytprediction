version https://git-lfs.github.com/spec/v1
oid sha256:66aa291f4c3191a8cf6e014d09e1d12fce7a369ca5301ab78a713925bba17023
size 3057
